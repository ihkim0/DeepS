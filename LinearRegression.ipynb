{
  "nbformat": 4,
  "nbformat_minor": 0,
  "metadata": {
    "colab": {
      "provenance": [],
      "toc_visible": true,
      "include_colab_link": true
    },
    "kernelspec": {
      "name": "python3",
      "display_name": "Python 3"
    },
    "language_info": {
      "name": "python"
    }
  },
  "cells": [
    {
      "cell_type": "markdown",
      "metadata": {
        "id": "view-in-github",
        "colab_type": "text"
      },
      "source": [
        "<a href=\"https://colab.research.google.com/github/ihkim0/DeepS/blob/master/LinearRegression.ipynb\" target=\"_parent\"><img src=\"https://colab.research.google.com/assets/colab-badge.svg\" alt=\"Open In Colab\"/></a>"
      ]
    },
    {
      "cell_type": "code",
      "metadata": {
        "id": "UWo3mLF3m-iK"
      },
      "source": [
        "import numpy as np"
      ],
      "execution_count": null,
      "outputs": []
    },
    {
      "cell_type": "code",
      "metadata": {
        "id": "Jr67BEebqVze"
      },
      "source": [
        "class LinRegression():\n",
        "    def __init__(self, nDim, w=[]):\n",
        "        self.nDim = nDim\n",
        "        if len(w) > 0:\n",
        "            self.w = np.array(w)\n",
        "        else:\n",
        "            self.w = np.random.rand(nDim+1)\n",
        "\n",
        "    def fit(self, X, y, N, epochs, eta=0.01):\n",
        "        cost = 0\n",
        "        for i in range(N):\n",
        "            value = np.dot(self.w, x[i])\n",
        "            err = value - y[i]\n",
        "            cost += err * err\n",
        "        cost /= N\n",
        "        print(\"Epochs = {:4d}\".format(0), end='')\n",
        "        for i in range(self.nDim+1):\n",
        "            print(\"  w{} = {:.3f}\".format(i, self.w[i]), end='')\n",
        "        print(\"  cost = {:.3f}\".format(cost))\n",
        "\n",
        "        for j in range(1, epochs+1):\n",
        "            dw = np.zeros(self.nDim + 1)\n",
        "            for i in range(N):\n",
        "                value = np.dot(self.w, x[i])\n",
        "                err = value - y[i]\n",
        "                dw += err * x[i]\n",
        "            # 회귀 계수 업데이트\n",
        "            self.w -= eta * 2.0 * dw / N\n",
        "            # 20회 주기로 학습내용 출력\n",
        "            if j % 20 == 0:\n",
        "                cost = 0\n",
        "                for i in range(N):\n",
        "                    value = np.dot(self.w, x[i])\n",
        "                    err = value - y[i]\n",
        "                    cost += err * err\n",
        "                cost /= N\n",
        "                print(\"Epochs = {:4d}\".format(j), end=\"\")\n",
        "                for i in range(self.nDim+1):\n",
        "                    print(\"  w{} = {:.3f}\".format(i, self.w[i]), end=\"\")\n",
        "                print(\"  cost = {:.3f}\".format(cost))\n",
        "\n",
        "    def predict(self, x):\n",
        "        return np.dot(self.w, x)"
      ],
      "execution_count": null,
      "outputs": []
    },
    {
      "cell_type": "code",
      "metadata": {
        "id": "MSAq2mKpq4SY"
      },
      "source": [
        "nSamples = 5\n",
        "nDim = 1\n",
        "nEpochs = 3000\n",
        "eta = 0.01"
      ],
      "execution_count": null,
      "outputs": []
    },
    {
      "cell_type": "code",
      "metadata": {
        "id": "JzakmT3tq52b"
      },
      "source": [
        "# x : 독립변수([1, x]), y : 종속변수\n",
        "x = np.array([[1,10], [1,9], [1,6], [1,4], [1,2]])\n",
        "y = np.array([93, 80, 77, 60, 30])\n",
        "# 선형회귀의 계수\n",
        "w = np.array([0.3, 0.5])"
      ],
      "execution_count": null,
      "outputs": []
    },
    {
      "cell_type": "code",
      "metadata": {
        "id": "CtNtL8bRq7gJ",
        "colab": {
          "base_uri": "https://localhost:8080/"
        },
        "outputId": "12ba574d-bdf4-4dfa-80e7-12d26cd87412"
      },
      "source": [
        "linR = LinRegression(1, w)\n",
        "linR.fit(x, y, nSamples, nEpochs, 0.01)"
      ],
      "execution_count": null,
      "outputs": [
        {
          "output_type": "stream",
          "name": "stdout",
          "text": [
            "Epochs =    0  w0 = 0.300  w1 = 0.500  cost = 4586.200\n",
            "Epochs =   20  w0 = 3.296  w1 = 9.758  cost = 155.864\n",
            "Epochs =   40  w0 = 4.920  w1 = 9.544  cost = 142.464\n",
            "Epochs =   60  w0 = 6.428  w1 = 9.346  cost = 130.917\n",
            "Epochs =   80  w0 = 7.827  w1 = 9.163  cost = 120.969\n",
            "Epochs =  100  w0 = 9.126  w1 = 8.992  cost = 112.397\n",
            "Epochs =  120  w0 = 10.332  w1 = 8.834  cost = 105.012\n",
            "Epochs =  140  w0 = 11.452  w1 = 8.687  cost = 98.649\n",
            "Epochs =  160  w0 = 12.491  w1 = 8.550  cost = 93.166\n",
            "Epochs =  180  w0 = 13.455  w1 = 8.424  cost = 88.442\n",
            "Epochs =  200  w0 = 14.350  w1 = 8.306  cost = 84.371\n",
            "Epochs =  220  w0 = 15.181  w1 = 8.197  cost = 80.864\n",
            "Epochs =  240  w0 = 15.952  w1 = 8.096  cost = 77.843\n",
            "Epochs =  260  w0 = 16.668  w1 = 8.002  cost = 75.239\n",
            "Epochs =  280  w0 = 17.333  w1 = 7.914  cost = 72.996\n",
            "Epochs =  300  w0 = 17.950  w1 = 7.833  cost = 71.063\n",
            "Epochs =  320  w0 = 18.523  w1 = 7.758  cost = 69.397\n",
            "Epochs =  340  w0 = 19.054  w1 = 7.688  cost = 67.963\n",
            "Epochs =  360  w0 = 19.547  w1 = 7.624  cost = 66.726\n",
            "Epochs =  380  w0 = 20.005  w1 = 7.564  cost = 65.661\n",
            "Epochs =  400  w0 = 20.430  w1 = 7.508  cost = 64.743\n",
            "Epochs =  420  w0 = 20.825  w1 = 7.456  cost = 63.952\n",
            "Epochs =  440  w0 = 21.191  w1 = 7.408  cost = 63.271\n",
            "Epochs =  460  w0 = 21.531  w1 = 7.363  cost = 62.684\n",
            "Epochs =  480  w0 = 21.847  w1 = 7.322  cost = 62.178\n",
            "Epochs =  500  w0 = 22.140  w1 = 7.283  cost = 61.742\n",
            "Epochs =  520  w0 = 22.412  w1 = 7.248  cost = 61.367\n",
            "Epochs =  540  w0 = 22.664  w1 = 7.214  cost = 61.043\n",
            "Epochs =  560  w0 = 22.898  w1 = 7.184  cost = 60.764\n",
            "Epochs =  580  w0 = 23.116  w1 = 7.155  cost = 60.524\n",
            "Epochs =  600  w0 = 23.318  w1 = 7.129  cost = 60.317\n",
            "Epochs =  620  w0 = 23.505  w1 = 7.104  cost = 60.139\n",
            "Epochs =  640  w0 = 23.679  w1 = 7.081  cost = 59.985\n",
            "Epochs =  660  w0 = 23.840  w1 = 7.060  cost = 59.853\n",
            "Epochs =  680  w0 = 23.990  w1 = 7.040  cost = 59.739\n",
            "Epochs =  700  w0 = 24.129  w1 = 7.022  cost = 59.640\n",
            "Epochs =  720  w0 = 24.259  w1 = 7.005  cost = 59.556\n",
            "Epochs =  740  w0 = 24.378  w1 = 6.989  cost = 59.483\n",
            "Epochs =  760  w0 = 24.490  w1 = 6.975  cost = 59.420\n",
            "Epochs =  780  w0 = 24.593  w1 = 6.961  cost = 59.366\n",
            "Epochs =  800  w0 = 24.689  w1 = 6.949  cost = 59.319\n",
            "Epochs =  820  w0 = 24.778  w1 = 6.937  cost = 59.279\n",
            "Epochs =  840  w0 = 24.860  w1 = 6.926  cost = 59.244\n",
            "Epochs =  860  w0 = 24.937  w1 = 6.916  cost = 59.214\n",
            "Epochs =  880  w0 = 25.008  w1 = 6.907  cost = 59.189\n",
            "Epochs =  900  w0 = 25.074  w1 = 6.898  cost = 59.167\n",
            "Epochs =  920  w0 = 25.136  w1 = 6.890  cost = 59.147\n",
            "Epochs =  940  w0 = 25.192  w1 = 6.882  cost = 59.131\n",
            "Epochs =  960  w0 = 25.245  w1 = 6.875  cost = 59.117\n",
            "Epochs =  980  w0 = 25.294  w1 = 6.869  cost = 59.105\n",
            "Epochs = 1000  w0 = 25.340  w1 = 6.863  cost = 59.094\n",
            "Epochs = 1020  w0 = 25.382  w1 = 6.857  cost = 59.085\n",
            "Epochs = 1040  w0 = 25.421  w1 = 6.852  cost = 59.077\n",
            "Epochs = 1060  w0 = 25.458  w1 = 6.848  cost = 59.070\n",
            "Epochs = 1080  w0 = 25.492  w1 = 6.843  cost = 59.065\n",
            "Epochs = 1100  w0 = 25.523  w1 = 6.839  cost = 59.060\n",
            "Epochs = 1120  w0 = 25.552  w1 = 6.835  cost = 59.055\n",
            "Epochs = 1140  w0 = 25.579  w1 = 6.832  cost = 59.052\n",
            "Epochs = 1160  w0 = 25.604  w1 = 6.828  cost = 59.048\n",
            "Epochs = 1180  w0 = 25.627  w1 = 6.825  cost = 59.046\n",
            "Epochs = 1200  w0 = 25.649  w1 = 6.822  cost = 59.043\n",
            "Epochs = 1220  w0 = 25.669  w1 = 6.820  cost = 59.041\n",
            "Epochs = 1240  w0 = 25.688  w1 = 6.817  cost = 59.040\n",
            "Epochs = 1260  w0 = 25.705  w1 = 6.815  cost = 59.038\n",
            "Epochs = 1280  w0 = 25.721  w1 = 6.813  cost = 59.037\n",
            "Epochs = 1300  w0 = 25.736  w1 = 6.811  cost = 59.036\n",
            "Epochs = 1320  w0 = 25.750  w1 = 6.809  cost = 59.035\n",
            "Epochs = 1340  w0 = 25.763  w1 = 6.808  cost = 59.034\n",
            "Epochs = 1360  w0 = 25.774  w1 = 6.806  cost = 59.033\n",
            "Epochs = 1380  w0 = 25.786  w1 = 6.804  cost = 59.032\n",
            "Epochs = 1400  w0 = 25.796  w1 = 6.803  cost = 59.032\n",
            "Epochs = 1420  w0 = 25.805  w1 = 6.802  cost = 59.031\n",
            "Epochs = 1440  w0 = 25.814  w1 = 6.801  cost = 59.031\n",
            "Epochs = 1460  w0 = 25.822  w1 = 6.800  cost = 59.031\n",
            "Epochs = 1480  w0 = 25.830  w1 = 6.799  cost = 59.030\n",
            "Epochs = 1500  w0 = 25.837  w1 = 6.798  cost = 59.030\n",
            "Epochs = 1520  w0 = 25.844  w1 = 6.797  cost = 59.030\n",
            "Epochs = 1540  w0 = 25.850  w1 = 6.796  cost = 59.030\n",
            "Epochs = 1560  w0 = 25.855  w1 = 6.795  cost = 59.030\n",
            "Epochs = 1580  w0 = 25.861  w1 = 6.795  cost = 59.029\n",
            "Epochs = 1600  w0 = 25.866  w1 = 6.794  cost = 59.029\n",
            "Epochs = 1620  w0 = 25.870  w1 = 6.793  cost = 59.029\n",
            "Epochs = 1640  w0 = 25.874  w1 = 6.793  cost = 59.029\n",
            "Epochs = 1660  w0 = 25.878  w1 = 6.792  cost = 59.029\n",
            "Epochs = 1680  w0 = 25.882  w1 = 6.792  cost = 59.029\n",
            "Epochs = 1700  w0 = 25.885  w1 = 6.791  cost = 59.029\n",
            "Epochs = 1720  w0 = 25.888  w1 = 6.791  cost = 59.029\n",
            "Epochs = 1740  w0 = 25.891  w1 = 6.791  cost = 59.029\n",
            "Epochs = 1760  w0 = 25.894  w1 = 6.790  cost = 59.029\n",
            "Epochs = 1780  w0 = 25.896  w1 = 6.790  cost = 59.029\n",
            "Epochs = 1800  w0 = 25.899  w1 = 6.790  cost = 59.029\n",
            "Epochs = 1820  w0 = 25.901  w1 = 6.789  cost = 59.029\n",
            "Epochs = 1840  w0 = 25.903  w1 = 6.789  cost = 59.029\n",
            "Epochs = 1860  w0 = 25.905  w1 = 6.789  cost = 59.029\n",
            "Epochs = 1880  w0 = 25.906  w1 = 6.789  cost = 59.029\n",
            "Epochs = 1900  w0 = 25.908  w1 = 6.788  cost = 59.029\n",
            "Epochs = 1920  w0 = 25.909  w1 = 6.788  cost = 59.029\n",
            "Epochs = 1940  w0 = 25.911  w1 = 6.788  cost = 59.029\n",
            "Epochs = 1960  w0 = 25.912  w1 = 6.788  cost = 59.029\n",
            "Epochs = 1980  w0 = 25.913  w1 = 6.788  cost = 59.029\n",
            "Epochs = 2000  w0 = 25.914  w1 = 6.788  cost = 59.029\n",
            "Epochs = 2020  w0 = 25.915  w1 = 6.787  cost = 59.029\n",
            "Epochs = 2040  w0 = 25.916  w1 = 6.787  cost = 59.029\n",
            "Epochs = 2060  w0 = 25.917  w1 = 6.787  cost = 59.029\n",
            "Epochs = 2080  w0 = 25.918  w1 = 6.787  cost = 59.029\n",
            "Epochs = 2100  w0 = 25.919  w1 = 6.787  cost = 59.029\n",
            "Epochs = 2120  w0 = 25.919  w1 = 6.787  cost = 59.029\n",
            "Epochs = 2140  w0 = 25.920  w1 = 6.787  cost = 59.029\n",
            "Epochs = 2160  w0 = 25.921  w1 = 6.787  cost = 59.029\n",
            "Epochs = 2180  w0 = 25.921  w1 = 6.787  cost = 59.029\n",
            "Epochs = 2200  w0 = 25.922  w1 = 6.787  cost = 59.029\n",
            "Epochs = 2220  w0 = 25.922  w1 = 6.787  cost = 59.029\n",
            "Epochs = 2240  w0 = 25.923  w1 = 6.786  cost = 59.029\n",
            "Epochs = 2260  w0 = 25.923  w1 = 6.786  cost = 59.029\n",
            "Epochs = 2280  w0 = 25.924  w1 = 6.786  cost = 59.029\n",
            "Epochs = 2300  w0 = 25.924  w1 = 6.786  cost = 59.029\n",
            "Epochs = 2320  w0 = 25.924  w1 = 6.786  cost = 59.029\n",
            "Epochs = 2340  w0 = 25.925  w1 = 6.786  cost = 59.029\n",
            "Epochs = 2360  w0 = 25.925  w1 = 6.786  cost = 59.029\n",
            "Epochs = 2380  w0 = 25.925  w1 = 6.786  cost = 59.029\n",
            "Epochs = 2400  w0 = 25.925  w1 = 6.786  cost = 59.029\n",
            "Epochs = 2420  w0 = 25.926  w1 = 6.786  cost = 59.029\n",
            "Epochs = 2440  w0 = 25.926  w1 = 6.786  cost = 59.029\n",
            "Epochs = 2460  w0 = 25.926  w1 = 6.786  cost = 59.029\n",
            "Epochs = 2480  w0 = 25.926  w1 = 6.786  cost = 59.029\n",
            "Epochs = 2500  w0 = 25.926  w1 = 6.786  cost = 59.029\n",
            "Epochs = 2520  w0 = 25.927  w1 = 6.786  cost = 59.029\n",
            "Epochs = 2540  w0 = 25.927  w1 = 6.786  cost = 59.029\n",
            "Epochs = 2560  w0 = 25.927  w1 = 6.786  cost = 59.029\n",
            "Epochs = 2580  w0 = 25.927  w1 = 6.786  cost = 59.029\n",
            "Epochs = 2600  w0 = 25.927  w1 = 6.786  cost = 59.029\n",
            "Epochs = 2620  w0 = 25.927  w1 = 6.786  cost = 59.029\n",
            "Epochs = 2640  w0 = 25.927  w1 = 6.786  cost = 59.029\n",
            "Epochs = 2660  w0 = 25.927  w1 = 6.786  cost = 59.029\n",
            "Epochs = 2680  w0 = 25.927  w1 = 6.786  cost = 59.029\n",
            "Epochs = 2700  w0 = 25.928  w1 = 6.786  cost = 59.029\n",
            "Epochs = 2720  w0 = 25.928  w1 = 6.786  cost = 59.029\n",
            "Epochs = 2740  w0 = 25.928  w1 = 6.786  cost = 59.029\n",
            "Epochs = 2760  w0 = 25.928  w1 = 6.786  cost = 59.029\n",
            "Epochs = 2780  w0 = 25.928  w1 = 6.786  cost = 59.029\n",
            "Epochs = 2800  w0 = 25.928  w1 = 6.786  cost = 59.029\n",
            "Epochs = 2820  w0 = 25.928  w1 = 6.786  cost = 59.029\n",
            "Epochs = 2840  w0 = 25.928  w1 = 6.786  cost = 59.029\n",
            "Epochs = 2860  w0 = 25.928  w1 = 6.786  cost = 59.029\n",
            "Epochs = 2880  w0 = 25.928  w1 = 6.786  cost = 59.029\n",
            "Epochs = 2900  w0 = 25.928  w1 = 6.786  cost = 59.029\n",
            "Epochs = 2920  w0 = 25.928  w1 = 6.786  cost = 59.029\n",
            "Epochs = 2940  w0 = 25.928  w1 = 6.786  cost = 59.029\n",
            "Epochs = 2960  w0 = 25.928  w1 = 6.786  cost = 59.029\n",
            "Epochs = 2980  w0 = 25.928  w1 = 6.786  cost = 59.029\n",
            "Epochs = 3000  w0 = 25.928  w1 = 6.786  cost = 59.029\n"
          ]
        }
      ]
    },
    {
      "cell_type": "code",
      "metadata": {
        "id": "RKiPfcXLq9TJ",
        "colab": {
          "base_uri": "https://localhost:8080/"
        },
        "outputId": "d7938de1-124c-4147-ad51-47df2ff89c8d"
      },
      "source": [
        "# 학습 시간이 5시간과 8시간인 경우의 성적 추정치 계산\n",
        "xx = np.array([1, 5])\n",
        "print(\"x = {:.0f} --> y = {:.1f}\".format(xx[1], linR.predict(xx)))\n",
        "xx = np.array([1, 8])\n",
        "print(\"x = {:.0f} --> y = {:.1f}\".format(xx[1], linR.predict(xx)))"
      ],
      "execution_count": null,
      "outputs": [
        {
          "output_type": "stream",
          "name": "stdout",
          "text": [
            "x = 5 --> y = 59.9\n",
            "x = 8 --> y = 80.2\n"
          ]
        }
      ]
    }
  ]
}